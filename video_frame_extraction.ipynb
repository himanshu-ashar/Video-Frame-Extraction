{
 "cells": [
  {
   "cell_type": "code",
   "execution_count": null,
   "metadata": {},
   "outputs": [],
   "source": [
    "import cv2\n",
    "import numpy as np\n",
    "import os"
   ]
  },
  {
   "cell_type": "code",
   "execution_count": null,
   "metadata": {},
   "outputs": [],
   "source": [
    "def extractImages(pathIn, pathOut):\n",
    "    c = 1\n",
    "    file_name = pathOut[len(DEST_DIR)+1:]\n",
    "    print(file_name)#new\n",
    "    vidcap = cv2.VideoCapture(pathIn)\n",
    "    success,image = vidcap.read()\n",
    "    success=True\n",
    "    while success:\n",
    "        vidcap.set(cv2.CAP_PROP_POS_MSEC,(count*1000))\n",
    "        success,image = vidcap.read()\n",
    "        if not success:\n",
    "            break\n",
    "        print ('Read a new frame: ', success)\n",
    "        image = cv2.resize(image, (200, 200)) #dimensions can be changed, currently set to 200x200\n",
    "        cv2.imwrite( pathOut + \"\\\\\"+file_name+\"_%d.jpg\" % count, image) # save frame as JPEG file\n",
    "        c+=1"
   ]
  },
  {
   "cell_type": "code",
   "execution_count": null,
   "metadata": {},
   "outputs": [],
   "source": [
    "DEST_DIR = #Enter destination directory\n",
    "SOURCE_DIR = #Enter source directory\n",
    "for file in os.listdir(SOURCE_DIR): \n",
    "    path_in = os.path.join(SOURCE_DIR,file)\n",
    "    vidcap = cv2.VideoCapture(path_in)\n",
    "    fps = vidcap.get(cv2.CAP_PROP_FPS)      # OpenCV2 version 2 used \"CV_CAP_PROP_FPS\"\n",
    "    frame_count = int(vidcap.get(cv2.CAP_PROP_FRAME_COUNT))\n",
    "    duration = frame_count/fps\n",
    "    minutes = int(duration/60)\n",
    "    seconds = duration%60\n",
    "    total_seconds = minutes*60 + seconds\n",
    "    if total_seconds>25: #example set at 25, change the value as per maximum required video duration in seconds\n",
    "        continue\n",
    "    else:\n",
    "        path_out = os.path.join(DEST_DIR,str(file[:-4]))\n",
    "        os.mkdir(path_out)\n",
    "        extractImages(path_in,path_out)"
   ]
  }
 ],
 "metadata": {
  "kernelspec": {
   "display_name": "Python 3",
   "language": "python",
   "name": "python3"
  },
  "language_info": {
   "codemirror_mode": {
    "name": "ipython",
    "version": 3
   },
   "file_extension": ".py",
   "mimetype": "text/x-python",
   "name": "python",
   "nbconvert_exporter": "python",
   "pygments_lexer": "ipython3",
   "version": "3.6.10"
  }
 },
 "nbformat": 4,
 "nbformat_minor": 4
}
